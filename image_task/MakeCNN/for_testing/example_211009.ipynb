{
 "cells": [
  {
   "cell_type": "code",
   "execution_count": 4,
   "id": "ddea515c",
   "metadata": {
    "scrolled": true
   },
   "outputs": [
    {
     "name": "stdout",
     "output_type": "stream",
     "text": [
      "Requirement already satisfied: scipy in c:\\users\\shosu\\anaconda3\\envs\\matlab\\lib\\site-packages (1.7.1)\n",
      "Requirement already satisfied: numpy<1.23.0,>=1.16.5 in c:\\users\\shosu\\anaconda3\\envs\\matlab\\lib\\site-packages (from scipy) (1.21.2)\n"
     ]
    }
   ],
   "source": [
    "import MakeCNN\n",
    "import sys\n",
    "!{sys.executable} -m pip install scipy\n",
    "import scipy.io"
   ]
  },
  {
   "cell_type": "code",
   "execution_count": 5,
   "id": "17ca7c93",
   "metadata": {},
   "outputs": [],
   "source": [
    "mc = MakeCNN.initialize()"
   ]
  },
  {
   "cell_type": "code",
   "execution_count": 6,
   "id": "3b247cc7",
   "metadata": {
    "scrolled": true
   },
   "outputs": [],
   "source": [
    "DataStore = mc.makeData({'D:/leukemia/leukemia/*/ch1_*.tif', 'D:/leukemia/leukemia/*/ch6_*.tif'})"
   ]
  },
  {
   "cell_type": "code",
   "execution_count": 7,
   "id": "b36a74f5",
   "metadata": {},
   "outputs": [],
   "source": [
    "myNet = mc.makeCNN(DataStore)"
   ]
  },
  {
   "cell_type": "code",
   "execution_count": 11,
   "id": "5c98885f",
   "metadata": {},
   "outputs": [
    {
     "ename": "MatlabRuntimeError",
     "evalue": "An error occurred when evaluating the result from a function. Details: \n  File C:\\Program Files\\MATLAB\\R2021b\\mcr\\toolbox\\nnet\\cnn\\@DAGNetwork\\classify.m, line 193, in classify\n\n  File C:\\Program Files\\MATLAB\\R2021b\\mcr\\toolbox\\nnet\\cnn\\SeriesNetwork.m, line 577, in SeriesNetwork.classify\n無効なデータです。予測子は数値配列、データストアまたは table でなければなりません。シーケンス入力をもつネットワークでは、予測子をシーケンスの cell 配列にすることもできます。\n",
     "output_type": "error",
     "traceback": [
      "\u001b[1;31m---------------------------------------------------------------------------\u001b[0m",
      "\u001b[1;31mMatlabRuntimeError\u001b[0m                        Traceback (most recent call last)",
      "\u001b[1;32m~\\AppData\\Local\\Temp/ipykernel_12672/983952492.py\u001b[0m in \u001b[0;36m<module>\u001b[1;34m\u001b[0m\n\u001b[1;32m----> 1\u001b[1;33m \u001b[0mlabel\u001b[0m \u001b[1;33m=\u001b[0m \u001b[0mmc\u001b[0m\u001b[1;33m.\u001b[0m\u001b[0mclassify\u001b[0m\u001b[1;33m(\u001b[0m\u001b[0mmyNet\u001b[0m\u001b[1;33m,\u001b[0m \u001b[1;34m'D:/leukemia/leukemia/class1/ch1_1.tif'\u001b[0m\u001b[1;33m)\u001b[0m\u001b[1;33m\u001b[0m\u001b[1;33m\u001b[0m\u001b[0m\n\u001b[0m\u001b[0;32m      2\u001b[0m \u001b[0mprint\u001b[0m\u001b[1;33m(\u001b[0m\u001b[0mlabel\u001b[0m\u001b[1;33m)\u001b[0m\u001b[1;33m\u001b[0m\u001b[1;33m\u001b[0m\u001b[0m\n",
      "\u001b[1;32mC:\\Program Files\\MATLAB\\R2021b\\toolbox\\compiler_sdk\\pysdk_py\\matlab_pysdk\\runtime\\deployablefunc.py\u001b[0m in \u001b[0;36m__call__\u001b[1;34m(self, *args, **kwargs)\u001b[0m\n\u001b[0;32m     77\u001b[0m                 nlhsWasSpecified, stdoutObj, stderrObj)\n\u001b[0;32m     78\u001b[0m         \u001b[1;32melse\u001b[0m\u001b[1;33m:\u001b[0m\u001b[1;33m\u001b[0m\u001b[1;33m\u001b[0m\u001b[0m\n\u001b[1;32m---> 79\u001b[1;33m             ret = futureresult.FutureResult(self._cppext_handle, future_tuple, nlhs, \n\u001b[0m\u001b[0;32m     80\u001b[0m                 nlhsWasSpecified, stdoutObj, stderrObj).result()\n\u001b[0;32m     81\u001b[0m \u001b[1;33m\u001b[0m\u001b[0m\n",
      "\u001b[1;32mC:\\Program Files\\MATLAB\\R2021b\\toolbox\\compiler_sdk\\pysdk_py\\matlab_pysdk\\runtime\\futureresult.py\u001b[0m in \u001b[0;36mresult\u001b[1;34m(self, timeout)\u001b[0m\n\u001b[0;32m    133\u001b[0m         \u001b[1;31m# This clause makes the code easier to debug in the case of an exception.\u001b[0m\u001b[1;33m\u001b[0m\u001b[1;33m\u001b[0m\u001b[1;33m\u001b[0m\u001b[0m\n\u001b[0;32m    134\u001b[0m         \u001b[1;32mexcept\u001b[0m \u001b[0mException\u001b[0m \u001b[1;32mas\u001b[0m \u001b[0me\u001b[0m\u001b[1;33m:\u001b[0m\u001b[1;33m\u001b[0m\u001b[1;33m\u001b[0m\u001b[0m\n\u001b[1;32m--> 135\u001b[1;33m             \u001b[1;32mraise\u001b[0m \u001b[0me\u001b[0m\u001b[1;33m\u001b[0m\u001b[1;33m\u001b[0m\u001b[0m\n\u001b[0m\u001b[0;32m    136\u001b[0m \u001b[1;33m\u001b[0m\u001b[0m\n\u001b[0;32m    137\u001b[0m     \u001b[1;32mdef\u001b[0m \u001b[0mcancel\u001b[0m\u001b[1;33m(\u001b[0m\u001b[0mself\u001b[0m\u001b[1;33m)\u001b[0m\u001b[1;33m:\u001b[0m\u001b[1;33m\u001b[0m\u001b[1;33m\u001b[0m\u001b[0m\n",
      "\u001b[1;32mC:\\Program Files\\MATLAB\\R2021b\\toolbox\\compiler_sdk\\pysdk_py\\matlab_pysdk\\runtime\\futureresult.py\u001b[0m in \u001b[0;36mresult\u001b[1;34m(self, timeout)\u001b[0m\n\u001b[0;32m    121\u001b[0m             \u001b[1;31m# This clause makes the code easier to debug in the case of an exception.\u001b[0m\u001b[1;33m\u001b[0m\u001b[1;33m\u001b[0m\u001b[1;33m\u001b[0m\u001b[0m\n\u001b[0;32m    122\u001b[0m             \u001b[1;32mexcept\u001b[0m \u001b[0mException\u001b[0m \u001b[1;32mas\u001b[0m \u001b[0me\u001b[0m\u001b[1;33m:\u001b[0m\u001b[1;33m\u001b[0m\u001b[1;33m\u001b[0m\u001b[0m\n\u001b[1;32m--> 123\u001b[1;33m                 \u001b[1;32mraise\u001b[0m \u001b[0me\u001b[0m\u001b[1;33m\u001b[0m\u001b[1;33m\u001b[0m\u001b[0m\n\u001b[0m\u001b[0;32m    124\u001b[0m \u001b[1;33m\u001b[0m\u001b[0m\n\u001b[0;32m    125\u001b[0m             \u001b[0mself\u001b[0m\u001b[1;33m.\u001b[0m\u001b[0m_retrieved\u001b[0m \u001b[1;33m=\u001b[0m \u001b[1;32mTrue\u001b[0m\u001b[1;33m\u001b[0m\u001b[1;33m\u001b[0m\u001b[0m\n",
      "\u001b[1;32mC:\\Program Files\\MATLAB\\R2021b\\toolbox\\compiler_sdk\\pysdk_py\\matlab_pysdk\\runtime\\futureresult.py\u001b[0m in \u001b[0;36mresult\u001b[1;34m(self, timeout)\u001b[0m\n\u001b[0;32m    110\u001b[0m \u001b[1;33m\u001b[0m\u001b[0m\n\u001b[0;32m    111\u001b[0m             \u001b[1;32mtry\u001b[0m\u001b[1;33m:\u001b[0m\u001b[1;33m\u001b[0m\u001b[1;33m\u001b[0m\u001b[0m\n\u001b[1;32m--> 112\u001b[1;33m                 self._result = self._cppext_handle.getFEvalResult(self._future_tuple, \n\u001b[0m\u001b[0;32m    113\u001b[0m                                                               self._nlhs, out=self._out, err=self._err)\n\u001b[0;32m    114\u001b[0m             \u001b[1;32mexcept\u001b[0m \u001b[0mNumberOfOutputArgumentsError\u001b[0m \u001b[1;32mas\u001b[0m \u001b[0me\u001b[0m\u001b[1;33m:\u001b[0m\u001b[1;33m\u001b[0m\u001b[1;33m\u001b[0m\u001b[0m\n",
      "\u001b[1;31mMatlabRuntimeError\u001b[0m: An error occurred when evaluating the result from a function. Details: \n  File C:\\Program Files\\MATLAB\\R2021b\\mcr\\toolbox\\nnet\\cnn\\@DAGNetwork\\classify.m, line 193, in classify\n\n  File C:\\Program Files\\MATLAB\\R2021b\\mcr\\toolbox\\nnet\\cnn\\SeriesNetwork.m, line 577, in SeriesNetwork.classify\n無効なデータです。予測子は数値配列、データストアまたは table でなければなりません。シーケンス入力をもつネットワークでは、予測子をシーケンスの cell 配列にすることもできます。\n"
     ]
    }
   ],
   "source": [
    "label = mc.classify(myNet, 'D:/leukemia/leukemia/class1/ch1_1.tif')\n",
    "print(label)"
   ]
  },
  {
   "cell_type": "code",
   "execution_count": 13,
   "id": "f9a80e6d",
   "metadata": {
    "scrolled": true
   },
   "outputs": [
    {
     "ename": "SystemError",
     "evalue": "Error in MATLAB Compiler SDK for Python. Details: An error occurred during evaluation of the function test. Details: Function test not found in Python package.",
     "output_type": "error",
     "traceback": [
      "\u001b[1;31m---------------------------------------------------------------------------\u001b[0m",
      "\u001b[1;31mSystemError\u001b[0m                               Traceback (most recent call last)",
      "\u001b[1;32m~\\AppData\\Local\\Temp/ipykernel_12672/2591847685.py\u001b[0m in \u001b[0;36m<module>\u001b[1;34m\u001b[0m\n\u001b[1;32m----> 1\u001b[1;33m \u001b[0maccuracy\u001b[0m \u001b[1;33m=\u001b[0m \u001b[0mmc\u001b[0m\u001b[1;33m.\u001b[0m\u001b[0mtest\u001b[0m\u001b[1;33m(\u001b[0m\u001b[0mmyNet\u001b[0m\u001b[1;33m,\u001b[0m \u001b[1;33m{\u001b[0m\u001b[1;34m'D:/leukemia/leukemia/*/ch1_*.tif'\u001b[0m\u001b[1;33m,\u001b[0m \u001b[1;34m'D:/leukemia/leukemia/*/ch6_*.tif'\u001b[0m\u001b[1;33m}\u001b[0m\u001b[1;33m)\u001b[0m\u001b[1;33m\u001b[0m\u001b[1;33m\u001b[0m\u001b[0m\n\u001b[0m\u001b[0;32m      2\u001b[0m \u001b[0mprint\u001b[0m\u001b[1;33m(\u001b[0m\u001b[0maccuracy\u001b[0m\u001b[1;33m)\u001b[0m\u001b[1;33m\u001b[0m\u001b[1;33m\u001b[0m\u001b[0m\n",
      "\u001b[1;32mC:\\Program Files\\MATLAB\\R2021b\\toolbox\\compiler_sdk\\pysdk_py\\matlab_pysdk\\runtime\\deployablefunc.py\u001b[0m in \u001b[0;36m__call__\u001b[1;34m(self, *args, **kwargs)\u001b[0m\n\u001b[0;32m     68\u001b[0m             \u001b[0mself\u001b[0m\u001b[1;33m.\u001b[0m\u001b[0m_errh\u001b[0m\u001b[1;33m.\u001b[0m\u001b[0mraiseTypeError\u001b[0m\u001b[1;33m(\u001b[0m\u001b[1;34m'StringIOForConErr'\u001b[0m\u001b[1;33m)\u001b[0m\u001b[1;33m\u001b[0m\u001b[1;33m\u001b[0m\u001b[0m\n\u001b[0;32m     69\u001b[0m \u001b[1;33m\u001b[0m\u001b[0m\n\u001b[1;32m---> 70\u001b[1;33m         future_tuple = self._cppext_handle.evaluateFunction(self._mcr_handle, self._name, nlhs, args,\n\u001b[0m\u001b[0;32m     71\u001b[0m                                                             out=stdoutObj, err=stderrObj)\n\u001b[0;32m     72\u001b[0m         \u001b[0mret\u001b[0m \u001b[1;33m=\u001b[0m \u001b[1;32mNone\u001b[0m\u001b[1;33m\u001b[0m\u001b[1;33m\u001b[0m\u001b[0m\n",
      "\u001b[1;31mSystemError\u001b[0m: Error in MATLAB Compiler SDK for Python. Details: An error occurred during evaluation of the function test. Details: Function test not found in Python package."
     ]
    }
   ],
   "source": [
    "accuracy = mc.test(myNet, {'D:/leukemia/leukemia/*/ch1_*.tif', 'D:/leukemia/leukemia/*/ch6_*.tif'})\n",
    "print(accuracy)"
   ]
  },
  {
   "cell_type": "code",
   "execution_count": 10,
   "id": "bedef718",
   "metadata": {},
   "outputs": [],
   "source": [
    "scipy.io.savemat(\"myNet.mat\", {'name':myNet})"
   ]
  },
  {
   "cell_type": "code",
   "execution_count": 12,
   "id": "93a5f62d",
   "metadata": {},
   "outputs": [
    {
     "data": {
      "text/plain": [
       "<matlab.object at 0x24cda6b3250>"
      ]
     },
     "execution_count": 12,
     "metadata": {},
     "output_type": "execute_result"
    }
   ],
   "source": [
    "myNet"
   ]
  },
  {
   "cell_type": "code",
   "execution_count": null,
   "id": "a78b320c",
   "metadata": {},
   "outputs": [],
   "source": [
    "mc.terminate()"
   ]
  },
  {
   "cell_type": "code",
   "execution_count": null,
   "id": "a20fcf11",
   "metadata": {},
   "outputs": [],
   "source": []
  }
 ],
 "metadata": {
  "kernelspec": {
   "display_name": "Python 3 (ipykernel)",
   "language": "python",
   "name": "python3"
  },
  "language_info": {
   "codemirror_mode": {
    "name": "ipython",
    "version": 3
   },
   "file_extension": ".py",
   "mimetype": "text/x-python",
   "name": "python",
   "nbconvert_exporter": "python",
   "pygments_lexer": "ipython3",
   "version": "3.8.11"
  }
 },
 "nbformat": 4,
 "nbformat_minor": 5
}
